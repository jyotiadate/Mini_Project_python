{
 "cells": [
  {
   "cell_type": "markdown",
   "metadata": {
    "id": "Wv1JUmWT83j4"
   },
   "source": [
    "**create a classic rolling dice simulator with the help of basic Python knowledge. Here we will be using the random module since we randomize the dice simulator for random outputs.**\n",
    "[If user input is equal to the random number print you win the game and if random value does not match with user then you loses]"
   ]
  },
  {
   "cell_type": "code",
   "execution_count": null,
   "metadata": {
    "id": "XUWXteY09jwo"
   },
   "outputs": [],
   "source": []
  },
  {
   "cell_type": "code",
   "execution_count": null,
   "metadata": {},
   "outputs": [
    {
     "name": "stdout",
     "output_type": "stream",
     "text": [
      "4\n",
      "Enter the input from user:4\n",
      "You loss the game\n",
      "3\n",
      "Enter the input from user:3\n",
      "You loss the game\n",
      "2\n",
      "Enter the input from user:4\n",
      "You loss the game\n",
      "6\n",
      "Enter the input from user:5\n",
      "You loss the game\n",
      "4\n",
      "Enter the input from user:6\n",
      "You loss the game\n",
      "4\n",
      "Enter the input from user:7\n",
      "You loss the game\n",
      "2\n",
      "Enter the input from user:8\n",
      "You loss the game\n",
      "4\n"
     ]
    }
   ],
   "source": [
    "import random\n",
    "\n",
    "while True :\n",
    "    dice=(random.randint(1,6))\n",
    "    print(dice)\n",
    "    user=input(\"Enter the input from user:\")\n",
    "    if dice==user:\n",
    "        print(\"You win the game\")\n",
    "    else:\n",
    "        print(\"You loss the game\")\n",
    "    "
   ]
  },
  {
   "cell_type": "code",
   "execution_count": null,
   "metadata": {},
   "outputs": [],
   "source": []
  },
  {
   "cell_type": "code",
   "execution_count": null,
   "metadata": {},
   "outputs": [],
   "source": []
  },
  {
   "cell_type": "code",
   "execution_count": null,
   "metadata": {},
   "outputs": [],
   "source": []
  }
 ],
 "metadata": {
  "colab": {
   "name": "DICE_ROLL_SIMULATOR.ipynb",
   "provenance": []
  },
  "kernelspec": {
   "display_name": "Python 3",
   "language": "python",
   "name": "python3"
  },
  "language_info": {
   "codemirror_mode": {
    "name": "ipython",
    "version": 3
   },
   "file_extension": ".py",
   "mimetype": "text/x-python",
   "name": "python",
   "nbconvert_exporter": "python",
   "pygments_lexer": "ipython3",
   "version": "3.8.8"
  }
 },
 "nbformat": 4,
 "nbformat_minor": 1
}
