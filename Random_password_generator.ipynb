{
 "cells": [
  {
   "cell_type": "markdown",
   "metadata": {
    "id": "o4agzwPS-tda"
   },
   "source": [
    "**Write a program to create a random password generator by using basic python inbuilt functions and datatype.**"
   ]
  },
  {
   "cell_type": "code",
   "execution_count": 5,
   "metadata": {
    "id": "CDAWY1fBDe67"
   },
   "outputs": [
    {
     "name": "stdout",
     "output_type": "stream",
     "text": [
      "Welcome to our random password generator\n",
      "Enter the length of password 21\n",
      "V-!so5zWtaI~l)(2wkev`\n"
     ]
    }
   ],
   "source": [
    "import random\n",
    "import string\n",
    "print(\"Welcome to our random password generator\")\n",
    "\n",
    "def pass_generator():\n",
    "    length=int(input(\"Enter the length of password \"))\n",
    "    low=string.ascii_lowercase\n",
    "    upp=string.ascii_uppercase\n",
    "    digit=string.digits\n",
    "    sym=string.punctuation\n",
    "    combine=low+upp+digit+sym\n",
    "    x=random.sample(combine,length)\n",
    "    password=\"\".join(x)\n",
    "    print(password)\n",
    "pass_generator()"
   ]
  },
  {
   "cell_type": "code",
   "execution_count": null,
   "metadata": {},
   "outputs": [],
   "source": []
  }
 ],
 "metadata": {
  "colab": {
   "authorship_tag": "ABX9TyOPM/grd65g2JXEXmlMxPOF",
   "name": "Untitled0.ipynb",
   "provenance": []
  },
  "kernelspec": {
   "display_name": "Python 3",
   "language": "python",
   "name": "python3"
  },
  "language_info": {
   "codemirror_mode": {
    "name": "ipython",
    "version": 3
   },
   "file_extension": ".py",
   "mimetype": "text/x-python",
   "name": "python",
   "nbconvert_exporter": "python",
   "pygments_lexer": "ipython3",
   "version": "3.8.8"
  }
 },
 "nbformat": 4,
 "nbformat_minor": 1
}
